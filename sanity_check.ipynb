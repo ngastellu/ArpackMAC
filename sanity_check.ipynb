{
 "cells": [
  {
   "attachments": {},
   "cell_type": "markdown",
   "metadata": {},
   "source": [
    "# Sanity check of ARPACK MAC results"
   ]
  },
  {
   "attachments": {},
   "cell_type": "markdown",
   "metadata": {},
   "source": [
    "## Check 1: Comparison with known QCFFPI results"
   ]
  },
  {
   "cell_type": "code",
   "execution_count": null,
   "metadata": {},
   "outputs": [],
   "source": [
    "from os import path\n",
    "import numpy as np\n",
    "from qcnico import qcplots\n",
    "\n",
    "def getARPACKdata(datadir,lbls):\n",
    "    edir = path.join(datadir,'eARPACK')\n",
    "    Mdir = path.join(datadir,'MOs_ARPACK')\n",
    "    ee = np.array([np.load(path.join(edir,f'eARPACK_{lbl}.npy')) for lbl in lbls])\n",
    "    MM = np.array([np.load(path.join(edir,f'MOs_ARPACK_{lbl}.npy')) for lbl in lbls])\n",
    "    return ee, MM\n"
   ]
  },
  {
   "attachments": {},
   "cell_type": "markdown",
   "metadata": {},
   "source": [
    "## Check 2: General appearance and localisation properties of ARPACK MOs on large graphene ribbons"
   ]
  },
  {
   "attachments": {},
   "cell_type": "markdown",
   "metadata": {},
   "source": [
    "## Check 3: ## Check 2: General appearance and localisation properties of ARPACK MOs on large graphene ribbons"
   ]
  }
 ],
 "metadata": {
  "language_info": {
   "name": "python"
  },
  "orig_nbformat": 4
 },
 "nbformat": 4,
 "nbformat_minor": 2
}
